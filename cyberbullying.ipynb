{
 "cells": [
  {
   "cell_type": "code",
   "execution_count": 52,
   "metadata": {},
   "outputs": [],
   "source": [
    "import re\n",
    "import nltk\n",
    "from sklearn.feature_extraction.text import CountVectorizer"
   ]
  },
  {
   "cell_type": "code",
   "execution_count": 53,
   "metadata": {},
   "outputs": [],
   "source": [
    "text_pos = []\n",
    "labels_pos = []\n",
    "with open(\"./pos_tweets.txt\", encoding=\"utf8\") as f:\n",
    "    for i in f: \n",
    "        textp.append(i) \n",
    "        labelsp.append('pos')\n",
    "\n",
    "text_neg = []\n",
    "labels_neg = []\n",
    "with open(\"./neg_tweets.txt\", encoding=\"utf8\") as f:\n",
    "\n",
    "    for i in f: \n",
    "        textn.append(i)\n",
    "        labelsn.append('neg')"
   ]
  },
  {
   "cell_type": "code",
   "execution_count": 3,
   "metadata": {},
   "outputs": [],
   "source": [
    "training_text = text_pos[:int((.8)*len(text_pos))] + text_neg[:int((.8)*len(text_neg))]\n",
    "training_labels = labels_pos[:int((.8)*len(labels_pos))] + labels_neg[:int((.8)*len(labels_neg))]\n",
    "\n",
    "test_text = text_pos[int((.8)*len(text_pos)):] + text_neg[int((.8)*len(text_neg)):]\n",
    "test_labels = labels_pos[int((.8)*len(labels_pos)):] + labels_neg[int((.8)*len(labels_neg)):]"
   ]
  },
  {
   "cell_type": "code",
   "execution_count": 4,
   "metadata": {},
   "outputs": [],
   "source": [
    "vectorizer = CountVectorizer()"
   ]
  },
  {
   "cell_type": "code",
   "execution_count": 54,
   "metadata": {
    "scrolled": true
   },
   "outputs": [
    {
     "name": "stdout",
     "output_type": "stream",
     "text": [
      "  (0, 931)\t1\n",
      "  (0, 3173)\t1\n",
      "  (0, 4891)\t1\n",
      "  (0, 5062)\t1\n",
      "  (0, 1434)\t1\n",
      "  (0, 789)\t1\n",
      "  (0, 2762)\t1\n",
      "  (0, 4692)\t1\n",
      "  (0, 3169)\t3\n",
      "  (0, 3558)\t1\n",
      "  (0, 806)\t1\n",
      "  (0, 1920)\t1\n",
      "  (0, 490)\t1\n",
      "  (0, 312)\t2\n",
      "  (0, 887)\t1\n",
      "  (0, 2826)\t1\n",
      "  (0, 2416)\t1\n",
      "  (0, 4546)\t1\n",
      "  (0, 3333)\t1\n",
      "  (0, 3162)\t1\n",
      "  (1, 2542)\t1\n",
      "  (1, 5011)\t1\n",
      "  (1, 4608)\t1\n",
      "  (1, 3130)\t1\n",
      "  (1, 4991)\t1\n",
      "  :\t:\n",
      "  (2002, 4962)\t1\n",
      "  (2002, 2679)\t1\n",
      "  (2003, 3333)\t1\n",
      "  (2003, 4608)\t2\n",
      "  (2003, 2433)\t1\n",
      "  (2003, 2963)\t1\n",
      "  (2003, 2366)\t1\n",
      "  (2003, 4605)\t1\n",
      "  (2003, 1126)\t1\n",
      "  (2003, 475)\t1\n",
      "  (2003, 3362)\t1\n",
      "  (2003, 2822)\t1\n",
      "  (2003, 1277)\t1\n",
      "  (2003, 602)\t1\n",
      "  (2003, 3385)\t1\n",
      "  (2003, 159)\t1\n",
      "  (2003, 5108)\t1\n",
      "  (2003, 1341)\t1\n",
      "  (2003, 1763)\t1\n",
      "  (2003, 3799)\t1\n",
      "  (2003, 1517)\t1\n",
      "  (2003, 2274)\t1\n",
      "  (2003, 3011)\t1\n",
      "  (2003, 4371)\t1\n",
      "  (2003, 3226)\t1\n"
     ]
    }
   ],
   "source": [
    "features = vectorizer.fit_transform(\n",
    "    training_text + test_text)\n",
    "print(features)\n",
    "#print(features_nd)"
   ]
  },
  {
   "cell_type": "code",
   "execution_count": 57,
   "metadata": {},
   "outputs": [],
   "source": [
    "from sklearn.model_selection import train_test_split\n",
    "\n",
    "X_train, X_test, y_train, y_test  = train_test_split(\n",
    "         features_nd[0:len(training_text)],\n",
    "          training_labels,\n",
    "        train_size=0.80, random_state=1234)\n"
   ]
  },
  {
   "cell_type": "code",
   "execution_count": 7,
   "metadata": {},
   "outputs": [],
   "source": [
    "from sklearn.linear_model import LogisticRegression\n",
    "log_model = LogisticRegression()"
   ]
  },
  {
   "cell_type": "code",
   "execution_count": 8,
   "metadata": {},
   "outputs": [],
   "source": [
    "log_model = log_model.fit(X=X_train, y=y_train)"
   ]
  },
  {
   "cell_type": "code",
   "execution_count": 9,
   "metadata": {},
   "outputs": [],
   "source": [
    "y_pred = log_model.predict(X_test)"
   ]
  },
  {
   "cell_type": "code",
   "execution_count": 10,
   "metadata": {},
   "outputs": [
    {
     "name": "stdout",
     "output_type": "stream",
     "text": [
      "0.7601246105919003\n"
     ]
    }
   ],
   "source": [
    "from sklearn.metrics import accuracy_score\n",
    "print(accuracy_score(y_test, y_pred))"
   ]
  },
  {
   "cell_type": "code",
   "execution_count": 58,
   "metadata": {},
   "outputs": [],
   "source": [
    "from sklearn.metrics import *"
   ]
  },
  {
   "cell_type": "code",
   "execution_count": 59,
   "metadata": {},
   "outputs": [
    {
     "data": {
      "text/plain": [
       "array([[208,  11],\n",
       "       [ 47,  55]], dtype=int64)"
      ]
     },
     "execution_count": 59,
     "metadata": {},
     "output_type": "execute_result"
    }
   ],
   "source": [
    "cm = confusion_matrix(y_test,y_pred)\n",
    "cm"
   ]
  },
  {
   "cell_type": "code",
   "execution_count": null,
   "metadata": {},
   "outputs": [],
   "source": []
  },
  {
   "cell_type": "code",
   "execution_count": 13,
   "metadata": {},
   "outputs": [],
   "source": []
  },
  {
   "cell_type": "code",
   "execution_count": 14,
   "metadata": {},
   "outputs": [],
   "source": []
  },
  {
   "cell_type": "code",
   "execution_count": 15,
   "metadata": {},
   "outputs": [],
   "source": []
  },
  {
   "cell_type": "code",
   "execution_count": null,
   "metadata": {},
   "outputs": [],
   "source": []
  },
  {
   "cell_type": "code",
   "execution_count": null,
   "metadata": {},
   "outputs": [],
   "source": []
  },
  {
   "cell_type": "code",
   "execution_count": null,
   "metadata": {},
   "outputs": [],
   "source": []
  },
  {
   "cell_type": "code",
   "execution_count": null,
   "metadata": {},
   "outputs": [],
   "source": []
  },
  {
   "cell_type": "code",
   "execution_count": null,
   "metadata": {},
   "outputs": [],
   "source": []
  },
  {
   "cell_type": "code",
   "execution_count": null,
   "metadata": {},
   "outputs": [],
   "source": []
  },
  {
   "cell_type": "code",
   "execution_count": null,
   "metadata": {},
   "outputs": [],
   "source": []
  },
  {
   "cell_type": "code",
   "execution_count": null,
   "metadata": {},
   "outputs": [],
   "source": []
  }
 ],
 "metadata": {
  "kernelspec": {
   "display_name": "sentiment",
   "language": "python",
   "name": "sentiment"
  },
  "language_info": {
   "codemirror_mode": {
    "name": "ipython",
    "version": 3
   },
   "file_extension": ".py",
   "mimetype": "text/x-python",
   "name": "python",
   "nbconvert_exporter": "python",
   "pygments_lexer": "ipython3",
   "version": "3.6.10"
  }
 },
 "nbformat": 4,
 "nbformat_minor": 2
}
